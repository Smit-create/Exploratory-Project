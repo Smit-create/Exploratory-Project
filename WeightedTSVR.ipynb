{
 "cells": [
  {
   "cell_type": "markdown",
   "metadata": {},
   "source": [
    "### Smit Lunagariya\n",
    "#### Implementation of Weighted Twin Support Vector Regression"
   ]
  },
  {
   "cell_type": "code",
   "execution_count": 1,
   "metadata": {},
   "outputs": [],
   "source": [
    "import math\n",
    "import numpy as np\n",
    "import pandas as pd\n",
    "import matplotlib.pyplot as plt\n",
    "import seaborn as sns\n",
    "from sklearn.base import BaseEstimator,RegressorMixin\n",
    "from sklearn.metrics import r2_score\n",
    "from sklearn.metrics import mean_absolute_error\n",
    "from sklearn.metrics import mean_squared_error\n",
    "from sklearn.model_selection import train_test_split\n",
    "from cvxopt import matrix\n",
    "from cvxopt import solvers\n",
    "%matplotlib inline"
   ]
  },
  {
   "cell_type": "code",
   "execution_count": 2,
   "metadata": {},
   "outputs": [],
   "source": [
    "class WeightedTSVR(BaseEstimator,RegressorMixin):\n",
    "    def __init__(self,c1=10,c2=10,e1=0.01,e2=0.01,kernel='gaussian_kernel',sigma=5,degree=3,regul=0,sai1=1,sai2=1):\n",
    "        self.c1=c1\n",
    "        self.c2=c2\n",
    "        self.e1=e1\n",
    "        self.e2=e2\n",
    "        self.kernel=kernel\n",
    "        self.sigma=sigma\n",
    "        self.degree=degree\n",
    "        self.regul=regul\n",
    "        self.sai1=sai1\n",
    "        self.sai2=sai2\n",
    "    def fit(self,X,Y):\n",
    "        m,n=X.shape\n",
    "        self.X=X\n",
    "        Y=np.array(Y).reshape(-1,1)\n",
    "        f=Y-self.e1\n",
    "        h=Y+self.e2\n",
    "        if self.kernel=='gaussian_kernel':\n",
    "            G=matrix(np.hstack((self.gaussian_kernel(np.array(self.X)),np.ones((m,1)))))\n",
    "           \n",
    "        elif self.kernel=='polynomial_kernel':\n",
    "            G=matrix(np.hstack((self.polynomial_kernel(self.X),np.ones((m,1)))))\n",
    "          \n",
    "        else:\n",
    "            G=matrix(np.hstack((self.linear_kernel(self.X),np.ones((m,1)))))\n",
    "        [w1,b1]=self.plane1(G,f,m)\n",
    "        [w2,b2]=self.plane1(G,h,m)\n",
    "        self.coef_=(w1+w2)/2\n",
    "        self.intercept_=(b1+b2)/2\n",
    "        return self\n",
    "    \n",
    "    def predict(self,Xi):\n",
    "        if self.kernel=='gaussian_kernel':\n",
    "            Xit=self.gaussian_kernel_predict(np.array(Xi))\n",
    "        elif self.kernel=='polynomial_kernel':\n",
    "            Xit=self.polynomial_kernel(Xi)\n",
    "        else:\n",
    "            Xit=self.linear_kernel(Xi)\n",
    "        self.pre=np.dot(np.array(Xit),self.coef_).sum(axis=1)+self.intercept_\n",
    "        return self.pre\n",
    "        \n",
    "    def score(self,Xt,yt):\n",
    "        ypre=self.predict(np.array(Xt))\n",
    "        return r2_score(np.array(yt),ypre)\n",
    "    \n",
    "    def plane1(self,G,f,m):\n",
    "        Z1=np.dot(G.T,G)\n",
    "        Z1=Z1+ self.regul*(np.identity(Z1.shape[0]))   \n",
    "        Z2=np.linalg.solve(Z1,G.T)\n",
    "        Z3=(np.dot(G,Z2))\n",
    "        Px=((Z3+Z3.T)/2)\n",
    "        Pxx=np.hstack((Px,np.zeros((m,m))))\n",
    "        P1=matrix(np.vstack((Pxx,np.zeros((m,2*m)))))\n",
    "        q1=matrix(np.hstack((((f.T)-(np.dot(f.T,Px))),self.e1*np.ones((1,m)))).reshape(-1,1))\n",
    "        sub=np.hstack((np.zeros((m,m)),-1*np.eye(m)))\n",
    "        constraint1=matrix(np.vstack((np.hstack(((np.vstack((np.eye(m)*-1,np.eye(m)))),np.zeros((2*m,m)))),sub)))\n",
    "        constraint_ineq1=matrix(np.hstack((np.hstack((np.zeros(m), np.ones(m) *(self.c1*self.sai1))),np.zeros(m))))\n",
    "        alpha=solvers.qp(P=P1,q=q1,G=constraint1,h=constraint_ineq1)\n",
    "        z=np.array(alpha['x'])[:m]\n",
    "        w1=np.dot(Z2,(f-z))[:-1]\n",
    "        b1=np.dot(Z2,(f-z))[-1]\n",
    "        return [w1,b1]\n",
    "    \n",
    "    def plane2(self,G,h,m):\n",
    "        Z1=np.dot(G.T,G)\n",
    "        Z1=Z1+ self.regul*(np.identity(Z1.shape[0]))   \n",
    "        Z2=np.linalg.solve(Z1,G.T)\n",
    "        Z3=(np.dot(G,Z2))\n",
    "        Px=((Z3+Z3.T)/2)\n",
    "        Pxx=np.hstack((Px,np.zeros((m,m))))\n",
    "        P2=matrix(np.vstack((Pxx,np.zeros((m,2*m)))))\n",
    "        q2=matrix(np.hstack((((np.dot(h.T,Px)-(h.T))),self.e2*np.ones((1,m)))).reshape(-1,1))\n",
    "        sub=np.hstack((np.zeros((m,m)),-1*np.eye(m)))\n",
    "        constraint2=matrix(np.vstack((np.hstack(((np.vstack((np.eye(m)*-1,np.eye(m)))),np.zeros((2*m,m)))),sub)))\n",
    "        constraint_ineq2=matrix(np.hstack((np.hstack((np.zeros(m), np.ones(m) *(self.c2*self.sai2))),np.zeros(m))))\n",
    "        alpha=solvers.qp(P=P2,q=q2,G=constraint2,h=constraint_ineq2)\n",
    "        z=np.array(alpha['x'])[:m]\n",
    "        w2=np.dot(Z2,(h+z))[:-1]\n",
    "        b2=np.dot(Z2,(h+z))[-1]\n",
    "        return [w2,b2]\n",
    "    \n",
    "    def linear_kernel(self,x1):\n",
    "        return np.dot(x1, (self.X).T)\n",
    "\n",
    "    def polynomial_kernel(self,x):\n",
    "        return (1 + np.dot(x, (self.X).T)) ** self.degree\n",
    "\n",
    "    def gaussian_kernel(self,x):\n",
    "        K=np.zeros((x.shape[0],x.shape[0]))\n",
    "        \n",
    "        for i in range(x.shape[0]):\n",
    "            \n",
    "            for j in range(x.shape[0]):\n",
    "                \n",
    "                K[i,j]=np.exp(-(np.linalg.norm(np.array(x)[i].reshape(-1,1)-np.array(x)[j].reshape(-1,1))/ (2* (self.sigma** 2))))  \n",
    "        return K\n",
    "    def gaussian_kernel_predict(self,Xi):\n",
    "        K=np.zeros((Xi.shape[0],(self.X).shape[0]))\n",
    "        for i in range(Xi.shape[0]):\n",
    "            for j in range((self.X).shape[0]):\n",
    "                K[i,j]=np.exp(-(np.linalg.norm(np.array(Xi)[i].reshape(-1,1)-np.array(self.X)[j].reshape(-1,1))/ (2* (self.sigma** 2))))\n",
    "        return K\n",
    "                            "
   ]
  },
  {
   "cell_type": "code",
   "execution_count": 3,
   "metadata": {},
   "outputs": [],
   "source": [
    "x=np.linspace(-10.2,10,num=81).reshape(-1,1)\n",
    "y=np.sin(x)/x\n",
    "yhat=y+np.random.normal(scale=0.1,size=81).reshape(-1,1)"
   ]
  },
  {
   "cell_type": "code",
   "execution_count": 4,
   "metadata": {},
   "outputs": [],
   "source": [
    "wsvr=WeightedTSVR(c1=0.10,c2=0.10,e1=10,e2=10,sigma=81,regul=0.0000001,sai1=0.1,sai2=0.1)"
   ]
  },
  {
   "cell_type": "code",
   "execution_count": 5,
   "metadata": {},
   "outputs": [
    {
     "name": "stdout",
     "output_type": "stream",
     "text": [
      "     pcost       dcost       gap    pres   dres\n",
      " 0: -8.1003e+03  9.2417e+02  3e+03  2e+02  1e-01\n",
      " 1: -7.9829e+01 -8.2153e-01  4e+01  2e+00  1e-03\n",
      " 2: -7.9900e-01 -8.4808e-01  1e+00  2e-02  1e-05\n",
      " 3: -5.1611e-02 -8.6357e-02  9e-02  1e-03  8e-07\n",
      " 4: -2.5854e-02 -3.3979e-02  2e-02  1e-04  1e-07\n",
      " 5: -2.8160e-02 -2.9672e-02  2e-03  2e-05  1e-08\n",
      " 6: -2.8778e-02 -2.9023e-02  4e-04  2e-06  1e-09\n",
      " 7: -2.8908e-02 -2.8919e-02  1e-05  3e-08  2e-11\n",
      " 8: -2.8915e-02 -2.8915e-02  2e-07  5e-10  3e-13\n",
      " 9: -2.8915e-02 -2.8915e-02  2e-09  5e-12  3e-15\n",
      "Optimal solution found.\n",
      "     pcost       dcost       gap    pres   dres\n",
      " 0: -8.1003e+03  9.2417e+02  3e+03  2e+02  1e-01\n",
      " 1: -7.9824e+01 -8.2154e-01  4e+01  2e+00  1e-03\n",
      " 2: -7.9895e-01 -8.4808e-01  1e+00  2e-02  1e-05\n",
      " 3: -5.1607e-02 -8.6354e-02  9e-02  1e-03  8e-07\n",
      " 4: -2.5847e-02 -3.3972e-02  2e-02  1e-04  1e-07\n",
      " 5: -2.8151e-02 -2.9664e-02  2e-03  2e-05  1e-08\n",
      " 6: -2.8771e-02 -2.9012e-02  3e-04  2e-06  1e-09\n",
      " 7: -2.8899e-02 -2.8910e-02  1e-05  4e-08  2e-11\n",
      " 8: -2.8906e-02 -2.8906e-02  3e-07  7e-10  5e-13\n",
      " 9: -2.8906e-02 -2.8906e-02  3e-09  7e-12  5e-15\n",
      "Optimal solution found.\n"
     ]
    },
    {
     "data": {
      "text/plain": [
       "WeightedTSVR(c1=0.1, c2=0.1, degree=3, e1=10, e2=10, kernel='gaussian_kernel',\n",
       "       regul=1e-07, sai1=0.1, sai2=0.1, sigma=81)"
      ]
     },
     "execution_count": 5,
     "metadata": {},
     "output_type": "execute_result"
    }
   ],
   "source": [
    "wsvr.fit(x,yhat)"
   ]
  },
  {
   "cell_type": "code",
   "execution_count": 6,
   "metadata": {},
   "outputs": [],
   "source": [
    "pred=wsvr.predict(x)"
   ]
  },
  {
   "cell_type": "code",
   "execution_count": 7,
   "metadata": {},
   "outputs": [
    {
     "data": {
      "text/plain": [
       "<matplotlib.legend.Legend at 0x1b2225e6f28>"
      ]
     },
     "execution_count": 7,
     "metadata": {},
     "output_type": "execute_result"
    },
    {
     "data": {
      "image/png": "[encoded data removed]",
      "text/plain": [
       "<Figure size 864x360 with 1 Axes>"
      ]
     },
     "metadata": {
      "needs_background": "light"
     },
     "output_type": "display_data"
    }
   ],
   "source": [
    "plt.figure(figsize=(12,5))\n",
    "plt.plot(x,y,label='sinc')\n",
    "plt.scatter(x,yhat,marker='+',label='sample',color='black')\n",
    "plt.plot(x,pred,label='weighted svr')\n",
    "plt.ylim([-0.5,1.5])\n",
    "plt.legend()"
   ]
  },
  {
   "cell_type": "code",
   "execution_count": 8,
   "metadata": {},
   "outputs": [],
   "source": [
    "def Evaluation_of_result(y,ypred):\n",
    "    def mean_abs_error(y,ypred):\n",
    "        return mean_absolute_error(y,ypred)\n",
    "    def root_mean_sq_error(y,ypred):\n",
    "        return math.sqrt(mean_squared_error(y,ypred))\n",
    "    def SSE(y,ypred):\n",
    "        y.reshape(-1,1)\n",
    "        ypred.reshape(-1,1)\n",
    "        return mean_squared_error(y,ypred)*(y.shape[0])\n",
    "    def SST(y):\n",
    "        y.reshape(-1,1)\n",
    "        return np.var(y)*(y.shape[0])\n",
    "    def SSR(ypred):\n",
    "        ypred.reshape(-1,1)\n",
    "        return np.var(ypred)*(ypred.shape[0])\n",
    "    print(\"MAE: \",mean_abs_error(y,ypred))\n",
    "    print(\"RMSE: \",root_mean_sq_error(y,ypred))\n",
    "    print(\"SSE: \",SSE(y,ypred))\n",
    "    print(\"SSR: \",SSR(ypred))\n",
    "    print(\"SST: \",SST(y))\n",
    "    print(\"SSR/SST: \",SSR(ypred)/SST(y))\n",
    "    print(\"SSE/SST: \",SSE(y,ypred)/SST(y))"
   ]
  },
  {
   "cell_type": "code",
   "execution_count": 9,
   "metadata": {},
   "outputs": [
    {
     "name": "stdout",
     "output_type": "stream",
     "text": [
      "The evaluation of results of Twin SVR are as follows:\n",
      "MAE:  0.02859223415342082\n",
      "RMSE:  0.03375555895026135\n",
      "SSE:  0.0922944585636101\n",
      "SSR:  8.973540370058224\n",
      "SST:  9.942618950174554\n",
      "SSR/SST:  0.9025328653373248\n",
      "SSE/SST:  0.009282711026755156\n"
     ]
    }
   ],
   "source": [
    "print(\"The evaluation of results of Twin SVR are as follows:\")\n",
    "Evaluation_of_result(y,pred)"
   ]
  },
  {
   "cell_type": "code",
   "execution_count": null,
   "metadata": {},
   "outputs": [],
   "source": []
  }
 ],
 "metadata": {
  "kernelspec": {
   "display_name": "Python 3",
   "language": "python",
   "name": "python3"
  },
  "language_info": {
   "codemirror_mode": {
    "name": "ipython",
    "version": 3
   },
   "file_extension": ".py",
   "mimetype": "text/x-python",
   "name": "python",
   "nbconvert_exporter": "python",
   "pygments_lexer": "ipython3",
   "version": "3.7.1"
  }
 },
 "nbformat": 4,
 "nbformat_minor": 2
}
