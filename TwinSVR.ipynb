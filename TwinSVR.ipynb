{
 "cells": [
  {
   "cell_type": "markdown",
   "metadata": {},
   "source": [
    "### Smit Lunagariya\n",
    "\n",
    "#### Implementation of Twin Support Vector Regression"
   ]
  },
  {
   "cell_type": "code",
   "execution_count": 1,
   "metadata": {},
   "outputs": [],
   "source": [
    "import math\n",
    "import numpy as np\n",
    "import pandas as pd\n",
    "import matplotlib.pyplot as plt\n",
    "import seaborn as sns\n",
    "from sklearn.base import BaseEstimator,RegressorMixin\n",
    "from sklearn.metrics import r2_score\n",
    "from sklearn.metrics import mean_absolute_error\n",
    "from sklearn.metrics import mean_squared_error\n",
    "from sklearn.model_selection import train_test_split\n",
    "from cvxopt import matrix\n",
    "from cvxopt import solvers\n",
    "%matplotlib inline\n"
   ]
  },
  {
   "cell_type": "code",
   "execution_count": 2,
   "metadata": {},
   "outputs": [],
   "source": [
    "#Class of TwinSVR enclosing various methods as initialisation, fit, predict, score\n",
    "\n",
    "\n",
    "class TwinSVR(BaseEstimator,RegressorMixin):\n",
    "    def __init__(self,c1=10,c2=10,e1=0.01,e2=0.01,kernel='gaussian_kernel',sigma=5,degree=3,regul=0):        #Constructor\n",
    "        self.c1=c1\n",
    "        self.c2=c2\n",
    "        self.e1=e1\n",
    "        self.e2=e2\n",
    "        self.kernel=kernel\n",
    "        self.sigma=sigma\n",
    "        self.degree=degree\n",
    "        self.regul=regul\n",
    "    def fit(self,X,Y):                           #to fit the data and find the coefficients of the hyperplane and the intercept\n",
    "        m,n=X.shape\n",
    "        self.X=X\n",
    "        Y=np.array(Y).reshape(-1,1)\n",
    "        f=Y-self.e1\n",
    "        h=Y+self.e2\n",
    "        if self.kernel=='gaussian_kernel':\n",
    "            G=matrix(np.hstack((self.gaussian_kernel(np.array(self.X)),np.ones((m,1)))))\n",
    "           \n",
    "        elif self.kernel=='polynomial_kernel':\n",
    "            G=matrix(np.hstack((self.polynomial_kernel(self.X),np.ones((m,1)))))\n",
    "          \n",
    "        else:\n",
    "            print(self.linear_kernel(X))\n",
    "            G=matrix(np.hstack((self.linear_kernel(self.X),np.ones((m,1)))))\n",
    "        [w1,b1]=self.plane1(G,f,m)\n",
    "        [w2,b2]=self.plane1(G,h,m)\n",
    "        self.coef_=(w1+w2)/2\n",
    "        self.intercept_=(b1+b2)/2\n",
    "        return self\n",
    "    \n",
    "    def predict(self,Xi):                    #to predict the results of test data using the hyperplane obtained from fitted data\n",
    "        if self.kernel=='gaussian_kernel':\n",
    "            Xit=self.gaussian_kernel_predict(np.array(Xi))\n",
    "        elif self.kernel=='polynomial_kernel':\n",
    "            Xit=self.polynomial_kernel(Xi)\n",
    "        else:\n",
    "            Xit=self.linear_kernel(Xi)\n",
    "        self.pre=np.dot(np.array(Xit),self.coef_).sum(axis=1)+self.intercept_\n",
    "        return self.pre\n",
    "       \n",
    "    def score(self,Xt,yt):                   #to evaluate the performance of the results\n",
    "        ypre=self.predict(np.array(Xt))\n",
    "        print(ypre.shape,np.array(yt).shape)\n",
    "        return r2_score(np.array(yt),ypre)\n",
    "    \n",
    "    def plane1(self,G,f,m):\n",
    "        Z1=np.dot(G.T,G)\n",
    "        Z1=Z1+ self.regul*(np.identity(Z1.shape[0]))     \n",
    "        Z2=np.linalg.solve(Z1,G.T)\n",
    "        Z3=(np.dot(G,Z2))\n",
    "        P1=matrix((Z3+Z3.T)/2)\n",
    "        q1=matrix(((f.T)-(np.dot(f.T,P1))).reshape(-1,1))\n",
    "        constraint1=matrix(np.vstack((np.eye(m)*-1,np.eye(m))))\n",
    "        constraint_ineq1=matrix(np.hstack((np.zeros(m), np.ones(m) *self.c1)))\n",
    "        alpha=solvers.qp(P=P1,q=q1,G=constraint1,h=constraint_ineq1)\n",
    "        z=np.array(alpha['x'])\n",
    "        w1=np.dot(Z2,(f-z))[:-1]\n",
    "        b1=np.dot(Z2,(f-z))[-1]\n",
    "        return [w1,b1]\n",
    "    \n",
    "    def plane2(self,G,h,m):\n",
    "        Z1=np.dot(G.T,G)\n",
    "        Z1=Z1+ self.regul*(np.identity(Z1.shape[0]))  \n",
    "        Z2=np.linalg.solve(Z1,G.T)\n",
    "        Z3=(np.dot(G,Z2))\n",
    "        P2=matrix((Z3+Z3.T)/2)\n",
    "        q2=matrix(-1*((h.T)-(np.dot(h.T,P2))).reshape(-1,1))\n",
    "        constraint2=matrix(np.vstack((np.eye(m)*-1,np.eye(m))))\n",
    "        constraint_ineq2=matrix(np.hstack((np.zeros(m), np.ones(m) * self.c2)))\n",
    "        beta=solvers.qp(P=P2,q=q2,G=constraint2,h=constraint_ineq2)\n",
    "        z=np.array(beta['x'])\n",
    "        w2=np.dot(Z2,(h+z))[:-1]\n",
    "        b2=np.dot(Z2,(h+z))[-1]\n",
    "        return [w2,b2]\n",
    "    \n",
    "    #Definitions of various kernels\n",
    "    def linear_kernel(self,x1):\n",
    "        return np.dot(x1, (self.X).T)\n",
    "\n",
    "    def polynomial_kernel(self,x):\n",
    "        return (1 + np.dot(x, (self.X).T)) ** self.degree\n",
    "\n",
    "    def gaussian_kernel(self,x):\n",
    "        K=np.zeros((x.shape[0],x.shape[0]))\n",
    "        \n",
    "        for i in range(x.shape[0]):\n",
    "            \n",
    "            for j in range(x.shape[0]):\n",
    "                \n",
    "                K[i,j]=np.exp(-(np.linalg.norm(np.array(x)[i].reshape(-1,1)-np.array(x)[j].reshape(-1,1))/ (2* (self.sigma** 2))))\n",
    "          \n",
    "        return K\n",
    "    def gaussian_kernel_predict(self,Xi):\n",
    "        K=np.zeros((Xi.shape[0],(self.X).shape[0]))\n",
    "        for i in range(Xi.shape[0]):\n",
    "            for j in range((self.X).shape[0]):\n",
    "                K[i,j]=np.exp(-(np.linalg.norm(np.array(Xi)[i].reshape(-1,1)-np.array(self.X)[j].reshape(-1,1))/ (2* (self.sigma** 2))))\n",
    "        return K\n",
    "                            "
   ]
  },
  {
   "cell_type": "code",
   "execution_count": 3,
   "metadata": {},
   "outputs": [],
   "source": [
    "x=np.linspace(-10.2,10,num=81).reshape(-1,1)\n",
    "y=np.sin(x)/x\n",
    "yhat=y+np.random.normal(scale=0.1,size=81).reshape(-1,1)"
   ]
  },
  {
   "cell_type": "code",
   "execution_count": 4,
   "metadata": {},
   "outputs": [],
   "source": [
    "tsvr=TwinSVR(c1=0.10,c2=0.10,e1=10,e2=10,sigma=81,regul=0.00000001)"
   ]
  },
  {
   "cell_type": "code",
   "execution_count": 5,
   "metadata": {},
   "outputs": [
    {
     "name": "stdout",
     "output_type": "stream",
     "text": [
      "     pcost       dcost       gap    pres   dres\n",
      " 0: -2.0066e-01 -8.9214e+00  2e+02  1e+01  9e-16\n",
      " 1:  6.3883e-02 -8.1208e+00  8e+00  2e-15  2e-15\n",
      " 2:  3.4720e-02 -5.9489e-01  6e-01  2e-16  1e-15\n",
      " 3: -1.2519e-01 -2.3208e-01  1e-01  2e-16  6e-16\n",
      " 4: -1.7467e-01 -1.9318e-01  2e-02  2e-16  4e-16\n",
      " 5: -1.8409e-01 -1.8526e-01  1e-03  2e-16  4e-16\n",
      " 6: -1.8468e-01 -1.8471e-01  3e-05  2e-16  4e-16\n",
      " 7: -1.8470e-01 -1.8470e-01  8e-07  2e-16  4e-16\n",
      " 8: -1.8470e-01 -1.8470e-01  2e-08  1e-16  4e-16\n",
      "Optimal solution found.\n",
      "     pcost       dcost       gap    pres   dres\n",
      " 0: -2.0063e-01 -8.9214e+00  2e+02  1e+01  8e-16\n",
      " 1:  6.3887e-02 -8.1208e+00  8e+00  2e-15  3e-15\n",
      " 2:  3.4727e-02 -5.9488e-01  6e-01  2e-16  2e-15\n",
      " 3: -1.2517e-01 -2.3207e-01  1e-01  2e-16  6e-16\n",
      " 4: -1.7466e-01 -1.9317e-01  2e-02  2e-16  3e-16\n",
      " 5: -1.8408e-01 -1.8525e-01  1e-03  2e-16  4e-16\n",
      " 6: -1.8467e-01 -1.8471e-01  3e-05  2e-16  3e-16\n",
      " 7: -1.8469e-01 -1.8469e-01  8e-07  2e-16  4e-16\n",
      " 8: -1.8469e-01 -1.8469e-01  2e-08  2e-16  3e-16\n",
      "Optimal solution found.\n"
     ]
    },
    {
     "data": {
      "text/plain": [
       "TwinSVR(c1=0.1, c2=0.1, degree=3, e1=10, e2=10, kernel='gaussian_kernel',\n",
       "    regul=1e-08, sigma=81)"
      ]
     },
     "execution_count": 5,
     "metadata": {},
     "output_type": "execute_result"
    }
   ],
   "source": [
    "tsvr.fit(x,yhat)"
   ]
  },
  {
   "cell_type": "code",
   "execution_count": 6,
   "metadata": {},
   "outputs": [],
   "source": [
    "pred=tsvr.predict(x)"
   ]
  },
  {
   "cell_type": "code",
   "execution_count": 7,
   "metadata": {
    "scrolled": true
   },
   "outputs": [
    {
     "data": {
      "text/plain": [
       "<matplotlib.legend.Legend at 0x1625fd50e48>"
      ]
     },
     "execution_count": 7,
     "metadata": {},
     "output_type": "execute_result"
    },
    {
     "data": {
      "image/png": "[encoded data removed]",
      "text/plain": [
       "<Figure size 864x360 with 1 Axes>"
      ]
     },
     "metadata": {
      "needs_background": "light"
     },
     "output_type": "display_data"
    }
   ],
   "source": [
    "plt.figure(figsize=(12,5))\n",
    "plt.plot(x,y,label='sinc')\n",
    "plt.scatter(x,yhat,marker='+',label='sample',color='black')\n",
    "plt.plot(x,pred,label='twin svr')\n",
    "plt.ylim([-0.5,1.5])\n",
    "plt.legend()"
   ]
  },
  {
   "cell_type": "code",
   "execution_count": 8,
   "metadata": {},
   "outputs": [],
   "source": [
    "#Evaluation of the results:\n",
    "def Evaluation_of_result(y,ypred):\n",
    "    def mean_abs_error(y,ypred):\n",
    "        return mean_absolute_error(y,ypred)\n",
    "    def root_mean_sq_error(y,ypred):\n",
    "        return math.sqrt(mean_squared_error(y,ypred))\n",
    "    def SSE(y,ypred):\n",
    "        y.reshape(-1,1)\n",
    "        ypred.reshape(-1,1)\n",
    "        return mean_squared_error(y,ypred)*(y.shape[0])\n",
    "    def SST(y):\n",
    "        y.reshape(-1,1)\n",
    "        return np.var(y)*(y.shape[0])\n",
    "    def SSR(ypred):\n",
    "        ypred.reshape(-1,1)\n",
    "        return np.var(ypred)*(ypred.shape[0])\n",
    "    print(\"MAE: \",mean_abs_error(y,ypred))\n",
    "    print(\"RMSE: \",root_mean_sq_error(y,ypred))\n",
    "    print(\"SSE: \",SSE(y,ypred))\n",
    "    print(\"SSR: \",SSR(ypred))\n",
    "    print(\"SST: \",SST(y))\n",
    "    print(\"SSR/SST: \",SSR(ypred)/SST(y))\n",
    "    print(\"SSE/SST: \",SSE(y,ypred)/SST(y))"
   ]
  },
  {
   "cell_type": "code",
   "execution_count": 9,
   "metadata": {},
   "outputs": [
    {
     "name": "stdout",
     "output_type": "stream",
     "text": [
      "The evaluation of results of Twin SVR are as follows:\n",
      "MAE:  0.04668909092448037\n",
      "RMSE:  0.055373344392855954\n",
      "SSE:  0.24836278880923637\n",
      "SSR:  9.785364166352997\n",
      "SST:  9.942618950174554\n",
      "SSR/SST:  0.9841837664090711\n",
      "SSE/SST:  0.024979614531529047\n"
     ]
    }
   ],
   "source": [
    "print(\"The evaluation of results of Twin SVR are as follows:\")\n",
    "Evaluation_of_result(y,pred)"
   ]
  }
 ],
 "metadata": {
  "kernelspec": {
   "display_name": "Python 3",
   "language": "python",
   "name": "python3"
  },
  "language_info": {
   "codemirror_mode": {
    "name": "ipython",
    "version": 3
   },
   "file_extension": ".py",
   "mimetype": "text/x-python",
   "name": "python",
   "nbconvert_exporter": "python",
   "pygments_lexer": "ipython3",
   "version": "3.7.1"
  }
 },
 "nbformat": 4,
 "nbformat_minor": 2
}
